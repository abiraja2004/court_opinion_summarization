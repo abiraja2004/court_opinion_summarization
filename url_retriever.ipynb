{
 "cells": [
  {
   "cell_type": "code",
   "execution_count": 1,
   "metadata": {},
   "outputs": [],
   "source": [
    "import sys\n",
    "from bs4 import BeautifulSoup\n",
    "import requests\n",
    "import time\n",
    "import re"
   ]
  },
  {
   "cell_type": "code",
   "execution_count": 2,
   "metadata": {},
   "outputs": [
    {
     "name": "stdout",
     "output_type": "stream",
     "text": [
      "processing year: 1940\n",
      "processing year: 1941\n",
      "processing year: 1942\n",
      "processing year: 1943\n",
      "processing year: 1944\n",
      "processing year: 1945\n",
      "processing year: 1946\n",
      "processing year: 1947\n",
      "processing year: 1948\n",
      "processing year: 1949\n",
      "processing year: 1950\n",
      "processing year: 1951\n",
      "processing year: 1952\n",
      "processing year: 1953\n",
      "processing year: 1954\n",
      "processing year: 1955\n",
      "processing year: 1956\n",
      "processing year: 1957\n",
      "processing year: 1958\n",
      "processing year: 1959\n",
      "processing year: 1960\n",
      "processing year: 1961\n",
      "processing year: 1962\n",
      "processing year: 1963\n",
      "processing year: 1964\n",
      "processing year: 1965\n",
      "processing year: 1966\n",
      "processing year: 1967\n",
      "processing year: 1968\n",
      "processing year: 1969\n",
      "processing year: 1970\n",
      "processing year: 1971\n",
      "processing year: 1972\n",
      "processing year: 1973\n",
      "processing year: 1974\n",
      "processing year: 1975\n",
      "processing year: 1976\n",
      "processing year: 1977\n",
      "processing year: 1978\n",
      "processing year: 1979\n",
      "processing year: 1980\n",
      "processing year: 1981\n",
      "processing year: 1982\n",
      "processing year: 1983\n",
      "processing year: 1984\n",
      "processing year: 1985\n",
      "processing year: 1986\n",
      "processing year: 1987\n",
      "processing year: 1988\n",
      "processing year: 1989\n",
      "processing year: 1990\n",
      "processing year: 1991\n",
      "processing year: 1992\n",
      "processing year: 1993\n",
      "processing year: 1994\n",
      "processing year: 1995\n",
      "processing year: 1996\n",
      "processing year: 1997\n",
      "processing year: 1998\n",
      "processing year: 1999\n",
      "processing year: 2000\n",
      "processing year: 2001\n",
      "processing year: 2002\n",
      "processing year: 2003\n",
      "processing year: 2004\n",
      "processing year: 2005\n",
      "processing year: 2006\n",
      "processing year: 2007\n",
      "processing year: 2008\n",
      "processing year: 2009\n",
      "processing year: 2010\n",
      "processing year: 2011\n",
      "processing year: 2012\n",
      "processing year: 2013\n",
      "processing year: 2014\n",
      "processing year: 2015\n",
      "processing year: 2016\n",
      "processing year: 2017\n"
     ]
    }
   ],
   "source": [
    "preamble = \"https://supreme.justia.com\"\n",
    "covered = {}\n",
    "\n",
    "with open(\"case_urls.txt\", \"w+\") as f:\n",
    "    for year in range(1940, 2018):\n",
    "        print(\"processing year: \" + str(year))\n",
    "        url = preamble + \"/cases/federal/us/year/\" + str(year) + \".html\"\n",
    "        r  = requests.get(url)\n",
    "        data = r.text\n",
    "        soup = BeautifulSoup(data, \"html5lib\")\n",
    "        for link in soup.find_all('a'):\n",
    "            x = link.get('href')\n",
    "            if x is not None:\n",
    "                if '/cases/federal/' in x and 'courts' not in x and x not in covered:\n",
    "#                     print(preamble + x)\n",
    "                    f.write(preamble + x + \"\\n\")\n",
    "                    covered[x] = True"
   ]
  },
  {
   "cell_type": "code",
   "execution_count": null,
   "metadata": {
    "collapsed": true
   },
   "outputs": [],
   "source": []
  }
 ],
 "metadata": {
  "kernelspec": {
   "display_name": "Python 2",
   "language": "python",
   "name": "python2"
  },
  "language_info": {
   "codemirror_mode": {
    "name": "ipython",
    "version": 2
   },
   "file_extension": ".py",
   "mimetype": "text/x-python",
   "name": "python",
   "nbconvert_exporter": "python",
   "pygments_lexer": "ipython2",
   "version": "2.7.13"
  }
 },
 "nbformat": 4,
 "nbformat_minor": 2
}
